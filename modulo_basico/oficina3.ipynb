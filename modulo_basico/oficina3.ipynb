{
  "nbformat": 4,
  "nbformat_minor": 0,
  "metadata": {
    "colab": {
      "provenance": [],
      "authorship_tag": "ABX9TyMnCdVmK/MShgeNvHysNoff",
      "include_colab_link": true
    },
    "kernelspec": {
      "name": "python3",
      "display_name": "Python 3"
    },
    "language_info": {
      "name": "python"
    }
  },
  "cells": [
    {
      "cell_type": "markdown",
      "metadata": {
        "id": "view-in-github",
        "colab_type": "text"
      },
      "source": [
        "<a href=\"https://colab.research.google.com/github/Franklin-Alves/activities-course-colab/blob/main/modulo_basico/oficina3.ipynb\" target=\"_parent\"><img src=\"https://colab.research.google.com/assets/colab-badge.svg\" alt=\"Open In Colab\"/></a>"
      ]
    },
    {
      "cell_type": "code",
      "execution_count": null,
      "metadata": {
        "id": "K0ZAozxeJk-C"
      },
      "outputs": [],
      "source": [
        "1. Questão: Suponha que você tem um array que armazena os nomes de cinco frutas: [“Maçã”, “Banana”, “Cereja”, “Damasco”, “Uva”].\n",
        "Como você adicionaria uma nova fruta ao final do array e como removeria a fruta da terceira posição?\n"
      ]
    },
    {
      "cell_type": "code",
      "source": [
        "frutas = [\"Maçã\", \"Banana\", \"Cereja\", \"Damasco\", \"Uva\"]\n",
        "\n",
        "frutas.append(\"Goiaba\")\n",
        "frutas.pop(2)\n",
        "\n",
        "print(frutas)"
      ],
      "metadata": {
        "id": "8Zvfw5cMKy0L",
        "colab": {
          "base_uri": "https://localhost:8080/"
        },
        "outputId": "ab3afe56-ab49-473f-c42e-e0d8463e34c3"
      },
      "execution_count": null,
      "outputs": [
        {
          "output_type": "stream",
          "name": "stdout",
          "text": [
            "['Maçã', 'Banana', 'Damasco', 'Uva', 'Goiaba']\n"
          ]
        }
      ]
    },
    {
      "cell_type": "markdown",
      "source": [
        "2. Questão: Imagine um array que armazena os nomes de três cores: “Azul”, “Vermelho” e “Amarelo”.\n",
        "Como você adicionaria a cor “Verde” ao início da lista e como removeria a segunda cor?\n"
      ],
      "metadata": {
        "id": "dfLMYsYqfNfM"
      }
    },
    {
      "cell_type": "markdown",
      "source": [],
      "metadata": {
        "id": "BSL1BG_4fNXE"
      }
    },
    {
      "cell_type": "code",
      "source": [
        "cores = [\"azul\", \"vermelho\", \"amarelo\"]\n",
        "\n",
        "cores.insert(0, \"verde\")\n",
        "cores.pop(1)\n",
        "\n",
        "print(cores)"
      ],
      "metadata": {
        "id": "-KNnWPqWfLXX",
        "colab": {
          "base_uri": "https://localhost:8080/"
        },
        "outputId": "220562a4-9035-499d-d999-054f29b46c26"
      },
      "execution_count": null,
      "outputs": [
        {
          "output_type": "stream",
          "name": "stdout",
          "text": [
            "['verde', 'vermelho', 'amarelo']\n"
          ]
        }
      ]
    },
    {
      "cell_type": "markdown",
      "source": [
        "3. Questão: Considere uma pilha utilizada para gerenciar uma sequência de livros.\n",
        "Se você adicionar três livros à pilha e depois remover o livro no topo, qual livro será o próximo no topo da pilha? Dê um exemplo com os livros “Livro A”, “Livro B” e “Livro C”.\n"
      ],
      "metadata": {
        "id": "09vgoSnNfPgk"
      }
    },
    {
      "cell_type": "code",
      "source": [
        "livros = []\n",
        "\n",
        "livros.append(\"A cartomante\")\n",
        "livros.append(\"O código da Inteligência\")\n",
        "livros.append(\"O mestre dos mestres\")\n",
        "\n",
        "print(f\"Livro no topo da pilha: {livros[0]}\")\n",
        "print(livros)"
      ],
      "metadata": {
        "id": "rijLMLKBUYS6",
        "colab": {
          "base_uri": "https://localhost:8080/"
        },
        "outputId": "2da7e4de-74ae-4e7e-b9d1-226d960c170f"
      },
      "execution_count": null,
      "outputs": [
        {
          "output_type": "stream",
          "name": "stdout",
          "text": [
            "Livro no topo da pilha: A cartomante\n",
            "['A cartomante', 'O código da Inteligência', 'O mestre dos mestres']\n"
          ]
        }
      ]
    },
    {
      "cell_type": "markdown",
      "source": [
        "4. Questão: Imagine uma fila utilizada para gerenciar a ordem de atendimento em um consultório médico.\n",
        "Se quatro pacientes são adicionados à fila e dois são atendidos, quem serão os próximos dois pacientes na ordem de atendimento? Considere os pacientes “Paciente 1”, “Paciente 2”, “Paciente 3” e “Paciente 4”."
      ],
      "metadata": {
        "id": "FPb4IoQdfRc2"
      }
    },
    {
      "cell_type": "code",
      "source": [
        "from collections import deque\n",
        "\n",
        "#Fila utilizando estrutura de lista\n",
        "fila_normal = []\n",
        "\n",
        "\n",
        "fila_normal.append(\"Paciente 1\")\n",
        "fila_normal.append(\"Paciente 2\")\n",
        "fila_normal.append(\"Paciente 3\")\n",
        "fila_normal.append(\"Paciente 4\")\n",
        "\n",
        "fila_normal.pop(0)\n",
        "fila_normal.pop(0)\n",
        "\n",
        "print(f\"Os dois próximos pacientes a serem atendidos são: {fila_normal}\")\n",
        "\n",
        "\n",
        "fila_deque = deque()\n",
        "\n",
        "#Fila utilizando estrutura deque\n",
        "fila_deque.append(\"Paciente 1\")\n",
        "fila_deque.append(\"Paciente 2\")\n",
        "fila_deque.append(\"Paciente 3\")\n",
        "fila_deque.append(\"Paciente 4\")\n",
        "\n",
        "fila_deque.popleft()\n",
        "fila_deque.popleft()\n",
        "\n",
        "print(f\"Os dois próximos pacientes a serem atendidos são: {fila_deque}\")\n",
        "\n"
      ],
      "metadata": {
        "id": "owXGMWOjUXfV",
        "colab": {
          "base_uri": "https://localhost:8080/"
        },
        "outputId": "39737b2b-5e33-45e3-b50a-7bdc094596a0"
      },
      "execution_count": null,
      "outputs": [
        {
          "output_type": "stream",
          "name": "stdout",
          "text": [
            "Os dois próximos pacientes a serem atendidos são: ['Paciente 3', 'Paciente 4']\n",
            "Os dois próximos pacientes a serem atendidos são: deque(['Paciente 3', 'Paciente 4'])\n"
          ]
        }
      ]
    }
  ]
}